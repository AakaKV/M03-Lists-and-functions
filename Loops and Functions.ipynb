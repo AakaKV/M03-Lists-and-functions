{
 "cells": [
  {
   "cell_type": "code",
   "execution_count": 8,
   "id": "d56a1f0b",
   "metadata": {},
   "outputs": [
    {
     "name": "stdout",
     "output_type": "stream",
     "text": [
      "['mozzarella', 'cinderella', 'salmonella']\n",
      "['mozzarella', 'Cinderella', 'salmonella']\n",
      "['MOZZARELLA', 'Cinderella', 'salmonella']\n",
      "['MOZZARELLA', 'Cinderella']\n"
     ]
    }
   ],
   "source": [
    "#7.4 through 7.\n",
    "things = [\"mozzarella\", \"cinderella\", \"salmonella\"]\n",
    "print(things)\n",
    "things[1]=things[1].capitalize()\n",
    "print(things)\n",
    "things[0]=things[0].upper()\n",
    "print(things)\n",
    "things.pop(2)\n",
    "print(things)"
   ]
  },
  {
   "cell_type": "code",
   "execution_count": 10,
   "id": "bdac2b0f",
   "metadata": {},
   "outputs": [
    {
     "data": {
      "text/plain": [
       "['Harry', 'Ron', 'Hermione']"
      ]
     },
     "execution_count": 10,
     "metadata": {},
     "output_type": "execute_result"
    }
   ],
   "source": [
    "#9.1\n",
    "def good():\n",
    "    goodguys = ['Harry', 'Ron', 'Hermione']\n",
    "    return goodguys\n",
    "good()"
   ]
  },
  {
   "cell_type": "code",
   "execution_count": 7,
   "id": "c4f0a012",
   "metadata": {},
   "outputs": [
    {
     "name": "stdout",
     "output_type": "stream",
     "text": [
      "3 is odd\n",
      "6 is odd\n",
      "9 is odd\n",
      "[3, 6, 9]\n"
     ]
    }
   ],
   "source": [
    "# #9.2\n",
    "def get_odds(bracs):\n",
    "    for num in range(1, 10,1):\n",
    "        #supposed to test if num is odd\n",
    "        if num % 3 == 0:\n",
    "            #supposed to print the odd num as a test to see if it's functioning\n",
    "            print(f\"{num} is odd\")\n",
    "            \n",
    "            bracs.append(num)\n",
    "\n",
    "            \n",
    "            \n",
    "theOdds = []\n",
    "get_odds(theOdds)\n",
    "print(theOdds)\n"
   ]
  },
  {
   "cell_type": "code",
   "execution_count": null,
   "id": "5a5fd306",
   "metadata": {},
   "outputs": [],
   "source": []
  },
  {
   "cell_type": "code",
   "execution_count": null,
   "id": "49f7c164",
   "metadata": {},
   "outputs": [],
   "source": []
  }
 ],
 "metadata": {
  "kernelspec": {
   "display_name": "Python 3 (ipykernel)",
   "language": "python",
   "name": "python3"
  },
  "language_info": {
   "codemirror_mode": {
    "name": "ipython",
    "version": 3
   },
   "file_extension": ".py",
   "mimetype": "text/x-python",
   "name": "python",
   "nbconvert_exporter": "python",
   "pygments_lexer": "ipython3",
   "version": "3.9.12"
  }
 },
 "nbformat": 4,
 "nbformat_minor": 5
}
